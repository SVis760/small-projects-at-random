{
  "nbformat": 4,
  "nbformat_minor": 0,
  "metadata": {
    "colab": {
      "provenance": [],
      "authorship_tag": "ABX9TyNTX/JNq9H/MEbl3N+iDkaX",
      "include_colab_link": true
    },
    "kernelspec": {
      "name": "python3",
      "display_name": "Python 3"
    },
    "language_info": {
      "name": "python"
    }
  },
  "cells": [
    {
      "cell_type": "markdown",
      "metadata": {
        "id": "view-in-github",
        "colab_type": "text"
      },
      "source": [
        "<a href=\"https://colab.research.google.com/github/SVis760/small-projects-at-random/blob/main/SPARQL_query_API_to_LeafLet.ipynb\" target=\"_parent\"><img src=\"https://colab.research.google.com/assets/colab-badge.svg\" alt=\"Open In Colab\"/></a>"
      ]
    },
    {
      "cell_type": "markdown",
      "source": [
        "# **POC gebruik SPARQL API in LeafLet map**\n",
        "\n",
        "Script gebouwd samen met mijn buddy chatGTP.\n",
        "API van de query: [Aardbevingen in Groningen](https://linkeddata.cultureelerfgoed.nl/rce/-/queries/Query-17/4) gebruikt.\n",
        "\n",
        "Download de html output als je het runt, en dubbelklik. Maar ik zal opsturen.\n",
        "\n",
        "Idee was om te kijken of zou lukken om API direct te gebruiken en wat er allemaal bij komt kijken en of LeafLet een goede oplossing is voor LOD.\n",
        "\n",
        "Zoals je ziet moeten de geo WKT omgezet worden naar format dat LeafLet begrijpt.\n",
        "De Rietveld data map had ik moeite mee met laden, ik ga kijken of ik daar nog iets aan kan doen. Anders hoor ik graag ideeen!"
      ],
      "metadata": {
        "id": "q2MepK_IpyI2"
      }
    },
    {
      "cell_type": "code",
      "execution_count": null,
      "metadata": {
        "id": "Cp4GqoWgpdoI"
      },
      "outputs": [],
      "source": [
        "from shapely import wkt\n",
        "from shapely.geometry import Polygon, MultiPolygon, Point"
      ]
    },
    {
      "cell_type": "code",
      "source": [
        "import requests, json\n",
        "url = \"https://api.linkeddata.cultureelerfgoed.nl/queries/rce/Query-17/4/run\"\n",
        "response = requests.get(url)\n",
        "data = response.json()\n",
        "#data"
      ],
      "metadata": {
        "id": "9hvIJqOxpiWY"
      },
      "execution_count": null,
      "outputs": []
    },
    {
      "cell_type": "code",
      "source": [
        "\n",
        "def modify_list_with_wkt(data):\n",
        "    # Define a function to convert WKT to lat/lng format\n",
        "    def wkt_to_lat_lng(wkt_string):\n",
        "        # Convert WKT string to a Shapely geometry object\n",
        "        geometry = wkt.loads(wkt_string)\n",
        "\n",
        "        # If it's a MultiPolygon, convert the first polygon to a point\n",
        "        if isinstance(geometry, MultiPolygon):\n",
        "            first_polygon = geometry.geoms[0]\n",
        "            point = first_polygon.representative_point()\n",
        "        # If it's a Polygon, convert it to a point\n",
        "        elif isinstance(geometry, Polygon):\n",
        "            point = geometry.representative_point()\n",
        "            # If it's a Point, extract latitude and longitude directly\n",
        "        elif geometry.geom_type == 'Point':\n",
        "            lat = geometry.y\n",
        "            lng = geometry.x\n",
        "            return {\"lat\": lat, \"lng\": lng}\n",
        "        else:\n",
        "            return None  # Unsupported geometry type\n",
        "\n",
        "        # Extract latitude and longitude from the point\n",
        "        lat = point.y\n",
        "        lng = point.x\n",
        "\n",
        "        return {\"lat\": lat, \"lng\": lng}\n",
        "\n",
        "    # Modify the list data to include lat/lng format\n",
        "    modified_data = []\n",
        "    for item in data:\n",
        "        if \"shape_rm\" in item:\n",
        "            wkt_point = item[\"shape_rm\"]\n",
        "            lat_lng = wkt_to_lat_lng(wkt_point)\n",
        "            if lat_lng:\n",
        "                item[\"lat\"] = lat_lng[\"lat\"]\n",
        "                item[\"lng\"] = lat_lng[\"lng\"]\n",
        "                del item[\"shape_rm\"]  # Remove the original WKT point\n",
        "                modified_data.append(item)\n",
        "\n",
        "    return modified_data\n",
        "\n",
        "\n",
        "result = modify_list_with_wkt(data)\n",
        "print(result)\n"
      ],
      "metadata": {
        "colab": {
          "base_uri": "https://localhost:8080/"
        },
        "id": "26eM5mozpmY7",
        "outputId": "b6ced76b-e69e-437e-d243-04cfdc7b880f"
      },
      "execution_count": null,
      "outputs": [
        {
          "output_type": "stream",
          "name": "stdout",
          "text": [
            "[{'rm': 'https://linkeddata.cultureelerfgoed.nl/cho-kennis/id/rijksmonument/11748', 'rm_n': '12323', 'aard': 'https://data.cultureelerfgoed.nl/term/id/rn/fc966a68-8863-4970-a83e-110f96006c21', 'locatieNaam_ab': 'Pijpplein to 6, Farmsum', 'shape_rmColor': 'purple', 'mapEndpoint': 'https://haleconnect.com/ows/services/org.874.7e01e60c-8887-425c-af9b-e2cf6af9181b_wms?SERVICE=WMS&Request=GetCapabilities', 'lat': 53.3226922859735, 'lng': 6.928261587174925}, {'rm': 'https://linkeddata.cultureelerfgoed.nl/cho-kennis/id/rijksmonument/11748', 'rm_n': '12323', 'aard': 'https://data.cultureelerfgoed.nl/term/id/rn/fc966a68-8863-4970-a83e-110f96006c21', 'locatieNaam_ab': 'Pijpplein to 6, Farmsum', 'shape_rmColor': 'purple', 'mapEndpoint': 'https://haleconnect.com/ows/services/org.874.7e01e60c-8887-425c-af9b-e2cf6af9181b_wms?SERVICE=WMS&Request=GetCapabilities', 'lat': 53.3226922859735, 'lng': 6.928261587174925}, {'rm': 'https://linkeddata.cultureelerfgoed.nl/cho-kennis/id/rijksmonument/53093', 'rm_n': '45980', 'aard': 'https://data.cultureelerfgoed.nl/term/id/rn/b673c8c1-5d93-496d-8f9e-89133d579d77', 'locatieNaam_ab': 'Lellensterweg, Stedum', 'shape_rmColor': 'purple', 'mapEndpoint': 'https://haleconnect.com/ows/services/org.874.7e01e60c-8887-425c-af9b-e2cf6af9181b_wms?SERVICE=WMS&Request=GetCapabilities', 'lat': 53.310225799169004, 'lng': 6.695293036372263}, {'rm': 'https://linkeddata.cultureelerfgoed.nl/cho-kennis/id/rijksmonument/10310', 'rm_n': '7072', 'aard': 'https://data.cultureelerfgoed.nl/term/id/rn/fc966a68-8863-4970-a83e-110f96006c21', 'locatieNaam_ab': 'Aduard', 'shape_rmColor': 'purple', 'mapEndpoint': 'https://haleconnect.com/ows/services/org.874.7e01e60c-8887-425c-af9b-e2cf6af9181b_wms?SERVICE=WMS&Request=GetCapabilities', 'lat': 53.2275256068, 'lng': 6.4474351135188}, {'rm': 'https://linkeddata.cultureelerfgoed.nl/cho-kennis/id/rijksmonument/10310', 'rm_n': '7072', 'aard': 'https://data.cultureelerfgoed.nl/term/id/rn/fc966a68-8863-4970-a83e-110f96006c21', 'locatieNaam_ab': 'Aduard', 'shape_rmColor': 'purple', 'mapEndpoint': 'https://haleconnect.com/ows/services/org.874.7e01e60c-8887-425c-af9b-e2cf6af9181b_wms?SERVICE=WMS&Request=GetCapabilities', 'lat': 53.2275256068, 'lng': 6.4474351135188}, {'rm': 'https://linkeddata.cultureelerfgoed.nl/cho-kennis/id/rijksmonument/10742', 'rm_n': '18738', 'aard': 'https://data.cultureelerfgoed.nl/term/id/rn/fc966a68-8863-4970-a83e-110f96006c21', 'locatieNaam_ab': 'Groningen', 'shape_rmColor': 'purple', 'mapEndpoint': 'https://haleconnect.com/ows/services/org.874.7e01e60c-8887-425c-af9b-e2cf6af9181b_wms?SERVICE=WMS&Request=GetCapabilities', 'lat': 53.220580492785, 'lng': 6.5575230127046}, {'rm': 'https://linkeddata.cultureelerfgoed.nl/cho-kennis/id/rijksmonument/10742', 'rm_n': '18738', 'aard': 'https://data.cultureelerfgoed.nl/term/id/rn/fc966a68-8863-4970-a83e-110f96006c21', 'locatieNaam_ab': 'Groningen', 'shape_rmColor': 'purple', 'mapEndpoint': 'https://haleconnect.com/ows/services/org.874.7e01e60c-8887-425c-af9b-e2cf6af9181b_wms?SERVICE=WMS&Request=GetCapabilities', 'lat': 53.220580492785, 'lng': 6.5575230127046}, {'rm': 'https://linkeddata.cultureelerfgoed.nl/cho-kennis/id/rijksmonument/10982', 'rm_n': '45060', 'aard': 'https://data.cultureelerfgoed.nl/term/id/rn/b673c8c1-5d93-496d-8f9e-89133d579d77', 'locatieNaam_ab': 'Adorp', 'shape_rmColor': 'purple', 'mapEndpoint': 'https://haleconnect.com/ows/services/org.874.7e01e60c-8887-425c-af9b-e2cf6af9181b_wms?SERVICE=WMS&Request=GetCapabilities', 'lat': 53.2760583708885, 'lng': 6.533038054249595}, {'rm': 'https://linkeddata.cultureelerfgoed.nl/cho-kennis/id/rijksmonument/11396', 'rm_n': '9777', 'aard': 'https://data.cultureelerfgoed.nl/term/id/rn/fc966a68-8863-4970-a83e-110f96006c21', 'locatieNaam_ab': 'Ten Boer', 'shape_rmColor': 'purple', 'mapEndpoint': 'https://haleconnect.com/ows/services/org.874.7e01e60c-8887-425c-af9b-e2cf6af9181b_wms?SERVICE=WMS&Request=GetCapabilities', 'lat': 53.27565492116, 'lng': 6.6920704415176}, {'rm': 'https://linkeddata.cultureelerfgoed.nl/cho-kennis/id/rijksmonument/11396', 'rm_n': '9777', 'aard': 'https://data.cultureelerfgoed.nl/term/id/rn/fc966a68-8863-4970-a83e-110f96006c21', 'locatieNaam_ab': 'Ten Boer', 'shape_rmColor': 'purple', 'mapEndpoint': 'https://haleconnect.com/ows/services/org.874.7e01e60c-8887-425c-af9b-e2cf6af9181b_wms?SERVICE=WMS&Request=GetCapabilities', 'lat': 53.27565492116, 'lng': 6.6920704415176}]\n"
          ]
        }
      ]
    },
    {
      "cell_type": "code",
      "source": [
        "# Convert result to JSON string\n",
        "result_json = json.dumps(result)\n",
        "\n",
        "# HTML content with result injected into JavaScript\n",
        "html_content = \"\"\"\n",
        "<!DOCTYPE html>\n",
        "<html lang=\"en\">\n",
        "<head>\n",
        "    <meta charset=\"UTF-8\">\n",
        "    <meta name=\"viewport\" content=\"width=device-width, initial-scale=1.0\">\n",
        "    <title>Leaflet Map with JSON Data</title>\n",
        "    <link rel=\"stylesheet\" href=\"https://unpkg.com/leaflet/dist/leaflet.css\"/>\n",
        "    <style>\n",
        "        #map {\n",
        "            height: 1000px;\n",
        "        }\n",
        "    </style>\n",
        "</head>\n",
        "<body>\n",
        "\n",
        "<div id=\"map\"></div>\n",
        "\n",
        "<script src=\"https://unpkg.com/leaflet/dist/leaflet.js\"></script>\n",
        "<script>\n",
        "    var map = L.map('map').setView([53.2191, 6.56667], 10);\n",
        "\n",
        "    L.tileLayer('https://{s}.tile.openstreetmap.org/{z}/{x}/{y}.png', {\n",
        "        maxZoom: 19,\n",
        "    }).addTo(map);\n",
        "\n",
        "    // Sample JSON data with coordinates\n",
        "    var jsonData = %s;\n",
        "\n",
        "    // Add markers from JSON data\n",
        "    jsonData.forEach(function (marker) {\n",
        "        L.marker([marker.lat, marker.lng]).addTo(map)\n",
        "            .bindPopup(marker.rm_n);\n",
        "    });\n",
        "</script>\n",
        "\n",
        "</body>\n",
        "</html>\n",
        "\"\"\" % result_json\n",
        "\n",
        "# Write HTML content to a file\n",
        "with open(\"leaflet_map.html\", \"w\") as file:\n",
        "    file.write(html_content)\n"
      ],
      "metadata": {
        "id": "lQCYYyAMpnWU"
      },
      "execution_count": null,
      "outputs": []
    }
  ]
}